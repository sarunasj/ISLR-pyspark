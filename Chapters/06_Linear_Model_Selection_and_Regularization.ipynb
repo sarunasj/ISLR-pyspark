{
 "cells": [
  {
   "cell_type": "markdown",
   "metadata": {},
   "source": [
    "# 6.5 Linear Model Selection and Regularization"
   ]
  },
  {
   "cell_type": "code",
   "execution_count": 1,
   "metadata": {},
   "outputs": [],
   "source": [
    "# -> Define SparkSession\n",
    "\n",
    "from pyspark.sql import SparkSession\n",
    "spark = SparkSession.builder.appName('selection methods').getOrCreate()"
   ]
  },
  {
   "cell_type": "code",
   "execution_count": 2,
   "metadata": {},
   "outputs": [],
   "source": [
    "# -> Load Modules:\n",
    "\n",
    "import pyspark.sql.functions as F\n",
    "import pyspark.sql.types as T\n",
    "from pyspark.ml.regression import LinearRegression\n",
    "\n",
    "from pyspark.ml.tuning import CrossValidator, ParamGridBuilder\n",
    "from pyspark.ml import Pipeline\n",
    "from pyspark.ml.evaluation import RegressionEvaluator\n",
    "\n",
    "import pandas as pd\n",
    "import numpy as np\n",
    "\n",
    "import utils"
   ]
  },
  {
   "cell_type": "markdown",
   "metadata": {},
   "source": [
    "## *Lab 1: Subset Selection Methods*"
   ]
  },
  {
   "cell_type": "markdown",
   "metadata": {},
   "source": [
    "### *6.5.1 Best Subset Selection*"
   ]
  },
  {
   "cell_type": "code",
   "execution_count": 3,
   "metadata": {},
   "outputs": [
    {
     "name": "stdout",
     "output_type": "stream",
     "text": [
      "\n",
      "Hitters data:\n",
      "+-----+----+-----+----+---+-----+-----+------+-----+------+-----+----+------+------+--------+-------+-------+------+------+---------+\n",
      "|AtBat|Hits|HmRun|Runs|RBI|Walks|Years|CAtBat|CHits|CHmRun|CRuns|CRBI|CWalks|League|Division|PutOuts|Assists|Errors|Salary|NewLeague|\n",
      "+-----+----+-----+----+---+-----+-----+------+-----+------+-----+----+------+------+--------+-------+-------+------+------+---------+\n",
      "|  315|  81|    7|  24| 38|   39|   14|  3449|  835|    69|  321| 414|   375|     N|       W|    632|     43|    10| 475.0|        N|\n",
      "|  479| 130|   18|  66| 72|   76|    3|  1624|  457|    63|  224| 266|   263|     A|       W|    880|     82|    14| 480.0|        A|\n",
      "|  496| 141|   20|  65| 78|   37|   11|  5628| 1575|   225|  828| 838|   354|     N|       E|    200|     11|     3| 500.0|        N|\n",
      "|  321|  87|   10|  39| 42|   30|    2|   396|  101|    12|   48|  46|    33|     N|       E|    805|     40|     4|  91.5|        N|\n",
      "|  594| 169|    4|  74| 51|   35|   11|  4408| 1133|    19|  501| 336|   194|     A|       W|    282|    421|    25| 750.0|        A|\n",
      "+-----+----+-----+----+---+-----+-----+------+-----+------+-----+----+------+------+--------+-------+-------+------+------+---------+\n",
      "only showing top 5 rows\n",
      "\n",
      "\n",
      "Data types:\n",
      "root\n",
      " |-- AtBat: integer (nullable = true)\n",
      " |-- Hits: integer (nullable = true)\n",
      " |-- HmRun: integer (nullable = true)\n",
      " |-- Runs: integer (nullable = true)\n",
      " |-- RBI: integer (nullable = true)\n",
      " |-- Walks: integer (nullable = true)\n",
      " |-- Years: integer (nullable = true)\n",
      " |-- CAtBat: integer (nullable = true)\n",
      " |-- CHits: integer (nullable = true)\n",
      " |-- CHmRun: integer (nullable = true)\n",
      " |-- CRuns: integer (nullable = true)\n",
      " |-- CRBI: integer (nullable = true)\n",
      " |-- CWalks: integer (nullable = true)\n",
      " |-- League: string (nullable = true)\n",
      " |-- Division: string (nullable = true)\n",
      " |-- PutOuts: integer (nullable = true)\n",
      " |-- Assists: integer (nullable = true)\n",
      " |-- Errors: integer (nullable = true)\n",
      " |-- Salary: double (nullable = true)\n",
      " |-- NewLeague: string (nullable = true)\n",
      "\n"
     ]
    }
   ],
   "source": [
    "# -> Load Hitters Data:\n",
    "\n",
    "Hitters = spark.read.csv('data/Hitters.csv',header=True,inferSchema=True)\n",
    "Hitters = Hitters.drop('_c0')\n",
    "Hitters = Hitters.filter(F.col('Salary') != 'NA')\n",
    "Hitters = Hitters.withColumn('Salary', F.col('Salary').cast(T.DoubleType()))\n",
    "\n",
    "print('\\nHitters data:'); Hitters.show(5)\n",
    "print('\\nData types:'); Hitters.printSchema()"
   ]
  },
  {
   "cell_type": "code",
   "execution_count": 4,
   "metadata": {},
   "outputs": [
    {
     "name": "stdout",
     "output_type": "stream",
     "text": [
      "Total number of iterations: 64\n",
      "Feature/s: ('League',), AIC=3966.076\n",
      "Feature/s: ('NewLeague',), AIC=3966.128\n",
      "Feature/s: ('Division',), AIC=3956.198\n",
      "Feature/s: ('AtBat',), AIC=3921.573\n",
      "Feature/s: ('Hits',), AIC=3909.918\n",
      "Feature/s: ('HmRun',), AIC=3933.206\n",
      "Feature/s: ('League', 'NewLeague'), AIC=3967.984\n",
      "Feature/s: ('League', 'Division'), AIC=3958.138\n",
      "Feature/s: ('League', 'AtBat'), AIC=3922.892\n",
      "Feature/s: ('League', 'Hits'), AIC=3910.978\n",
      "Feature/s: ('League', 'HmRun'), AIC=3933.989\n",
      "Feature/s: ('NewLeague', 'Division'), AIC=3958.195\n",
      "Feature/s: ('NewLeague', 'AtBat'), AIC=3923.238\n",
      "Feature/s: ('NewLeague', 'Hits'), AIC=3911.422\n",
      "Feature/s: ('NewLeague', 'HmRun'), AIC=3933.868\n",
      "Feature/s: ('Division', 'AtBat'), AIC=3914.352\n",
      "Feature/s: ('Division', 'Hits'), AIC=3903.815\n",
      "Feature/s: ('Division', 'HmRun'), AIC=3925.292\n",
      "Feature/s: ('AtBat', 'Hits'), AIC=3908.260\n",
      "Feature/s: ('AtBat', 'HmRun'), AIC=3916.569\n",
      "Feature/s: ('Hits', 'HmRun'), AIC=3906.349\n",
      "Feature/s: ('League', 'NewLeague', 'Division'), AIC=3960.042\n",
      "Feature/s: ('League', 'NewLeague', 'AtBat'), AIC=3924.822\n",
      "Feature/s: ('League', 'NewLeague', 'Hits'), AIC=3912.910\n",
      "Feature/s: ('League', 'NewLeague', 'HmRun'), AIC=3935.820\n",
      "Feature/s: ('League', 'Division', 'AtBat'), AIC=3915.704\n",
      "Feature/s: ('League', 'Division', 'Hits'), AIC=3904.932\n",
      "Feature/s: ('League', 'Division', 'HmRun'), AIC=3926.104\n",
      "Feature/s: ('League', 'AtBat', 'Hits'), AIC=3909.378\n",
      "Feature/s: ('League', 'AtBat', 'HmRun'), AIC=3916.869\n",
      "Feature/s: ('League', 'Hits', 'HmRun'), AIC=3906.381\n",
      "Feature/s: ('NewLeague', 'Division', 'AtBat'), AIC=3916.032\n",
      "Feature/s: ('NewLeague', 'Division', 'Hits'), AIC=3905.345\n",
      "Feature/s: ('NewLeague', 'Division', 'HmRun'), AIC=3925.973\n",
      "Feature/s: ('NewLeague', 'AtBat', 'Hits'), AIC=3909.739\n",
      "Feature/s: ('NewLeague', 'AtBat', 'HmRun'), AIC=3917.389\n",
      "Feature/s: ('NewLeague', 'Hits', 'HmRun'), AIC=3907.027\n",
      "Feature/s: ('Division', 'AtBat', 'Hits'), AIC=3902.965\n",
      "Feature/s: ('Division', 'AtBat', 'HmRun'), AIC=3909.166\n",
      "Feature/s: ('Division', 'Hits', 'HmRun'), AIC=3899.914\n",
      "Feature/s: ('AtBat', 'Hits', 'HmRun'), AIC=3902.372\n",
      "Feature/s: ('League', 'NewLeague', 'Division', 'AtBat'), AIC=3917.639\n",
      "Feature/s: ('League', 'NewLeague', 'Division', 'Hits'), AIC=3906.871\n",
      "Feature/s: ('League', 'NewLeague', 'Division', 'HmRun'), AIC=3927.931\n",
      "Feature/s: ('League', 'NewLeague', 'AtBat', 'Hits'), AIC=3911.348\n",
      "Feature/s: ('League', 'NewLeague', 'AtBat', 'HmRun'), AIC=3918.865\n",
      "Feature/s: ('League', 'NewLeague', 'Hits', 'HmRun'), AIC=3908.370\n",
      "Feature/s: ('League', 'Division', 'AtBat', 'Hits'), AIC=3904.130\n",
      "Feature/s: ('League', 'Division', 'AtBat', 'HmRun'), AIC=3909.505\n",
      "Feature/s: ('League', 'Division', 'Hits', 'HmRun'), AIC=3899.997\n",
      "Feature/s: ('League', 'AtBat', 'Hits', 'HmRun'), AIC=3902.263\n",
      "Feature/s: ('NewLeague', 'Division', 'AtBat', 'Hits'), AIC=3904.472\n",
      "Feature/s: ('NewLeague', 'Division', 'AtBat', 'HmRun'), AIC=3910.001\n",
      "Feature/s: ('NewLeague', 'Division', 'Hits', 'HmRun'), AIC=3900.606\n",
      "Feature/s: ('NewLeague', 'AtBat', 'Hits', 'HmRun'), AIC=3902.764\n",
      "Feature/s: ('Division', 'AtBat', 'Hits', 'HmRun'), AIC=3896.955\n",
      "Feature/s: ('League', 'NewLeague', 'Division', 'AtBat', 'Hits'), AIC=3906.101\n",
      "Feature/s: ('League', 'NewLeague', 'Division', 'AtBat', 'HmRun'), AIC=3911.503\n",
      "Feature/s: ('League', 'NewLeague', 'Division', 'Hits', 'HmRun'), AIC=3901.990\n",
      "Feature/s: ('League', 'NewLeague', 'AtBat', 'Hits', 'HmRun'), AIC=3904.261\n",
      "Feature/s: ('League', 'Division', 'AtBat', 'Hits', 'HmRun'), AIC=3896.908\n",
      "Feature/s: ('NewLeague', 'Division', 'AtBat', 'Hits', 'HmRun'), AIC=3897.387\n",
      "Feature/s: ('League', 'NewLeague', 'Division', 'AtBat', 'Hits', 'HmRun'), AIC=3898.906\n",
      "\n",
      "Top 5 models:\n",
      "                  AIC                       features  num_features\n",
      "Model ID                                                          \n",
      "6         3967.983795            (League, NewLeague)             2\n",
      "1         3966.127869                   (NewLeague,)             1\n",
      "0         3966.076332                      (League,)             1\n",
      "21        3960.041870  (League, NewLeague, Division)             3\n",
      "11        3958.194534          (NewLeague, Division)             2\n"
     ]
    }
   ],
   "source": [
    "categoricalCol = ['League', 'NewLeague', 'Division']  \n",
    "continuousCol = [ 'AtBat', 'Hits', 'HmRun']\n",
    "Cols = categoricalCol + continuousCol\n",
    "\n",
    "container = utils.best_subset_selection_GLM(df = Hitters,\n",
    "                       labelCol = 'Salary', \n",
    "                       Cols = Cols,\n",
    "                       label_is_categorical=False)\n",
    "\n",
    "n = 5\n",
    "print('\\nTop {} models:'.format(n))\n",
    "print(container.head(n))"
   ]
  },
  {
   "cell_type": "markdown",
   "metadata": {},
   "source": [
    "### *6.5.2 Forward and Backward Stepwise Selection*"
   ]
  },
  {
   "cell_type": "raw",
   "metadata": {},
   "source": [
    "Will be soon updated"
   ]
  },
  {
   "cell_type": "markdown",
   "metadata": {},
   "source": [
    "## *Lab 2: Ridge Regression and the Lasso*"
   ]
  },
  {
   "cell_type": "raw",
   "metadata": {},
   "source": [
    "Note:\n",
    "- elasticNetParam corresponds α \n",
    "- regParam corresponds to λ.\n",
    "\n",
    "For the Ridge and the Lasso regressions elasticNetParam is equal to 0.0 and 1.0, respectively."
   ]
  },
  {
   "cell_type": "markdown",
   "metadata": {},
   "source": [
    "### *6.6.1 Ridge regression*"
   ]
  },
  {
   "cell_type": "code",
   "execution_count": 5,
   "metadata": {},
   "outputs": [
    {
     "name": "stdout",
     "output_type": "stream",
     "text": [
      "\n",
      "Lambda and corresponding MSE values:\n",
      "           MSE  lambda\n",
      "0   333.004713  1000.0\n",
      "1   331.595949   900.1\n",
      "2   330.192991   800.2\n",
      "3   328.804227   700.3\n",
      "4   327.440657   600.4\n",
      "5   326.116949   500.5\n",
      "6   324.852554   400.6\n",
      "7   323.670414   300.7\n",
      "8   322.574203   200.8\n",
      "9   321.321780   100.9\n",
      "10  317.568241     1.0\n",
      "\n",
      "Best Lambda value: 1.0\n",
      "\n",
      "Coefficient estimates : [-62.42279068704056,26.867903449723745,-119.37567601471598,-1.9048904399579303,6.920138818440071,2.7432131262174924,-1.5300579746423604,-0.555542001339356,5.922990635648117,-6.746208980485967,-0.12152039845383315,0.1904404515636138,0.32656007735829073,1.1066452768372486,0.5719914092898067,-0.7368855917013047,0.2817738119789803,0.3430558690955312,-3.5309239818643996]\n",
      "\n",
      "Intercept estimate: 197.87294915232937\n",
      "\n",
      "Predictions:\n",
      "+-----+------------------+\n",
      "|label|        prediction|\n",
      "+-----+------------------+\n",
      "|475.0| 372.5635026211904|\n",
      "|480.0| 711.5729492500842|\n",
      "|500.0|1159.6195590092332|\n",
      "| 91.5| 553.6505422507867|\n",
      "|750.0|509.04120411137455|\n",
      "+-----+------------------+\n",
      "only showing top 5 rows\n",
      "\n"
     ]
    }
   ],
   "source": [
    "# -> Prepare data:\n",
    "\n",
    "data = utils.prepare_data(df = Hitters,\n",
    "             labelCol = 'Salary',\n",
    "             label_is_categorical = False,\n",
    "             categoricalCols = ['League', 'NewLeague', 'Division'],\n",
    "             continuousCols = [ 'AtBat',\n",
    "                                'Hits',\n",
    "                                'HmRun',\n",
    "                                'Runs',\n",
    "                                'RBI',\n",
    "                                'Walks',\n",
    "                                'Years',\n",
    "                                'CAtBat',\n",
    "                                'CHits',\n",
    "                                'CHmRun',\n",
    "                                'CRuns',\n",
    "                                'CRBI',\n",
    "                                'CWalks',\n",
    "                                'PutOuts',\n",
    "                                'Assists',\n",
    "                                'Errors'])\n",
    "\n",
    "# -> Define the model:\n",
    "\n",
    "model = LinearRegression(featuresCol=\"features\", \n",
    "                         labelCol=\"label\",\n",
    "                         predictionCol=\"prediction\", \n",
    "                         elasticNetParam=0.0) # !\n",
    "\n",
    "# -> Define grid values for lambda (regParam):\n",
    "\n",
    "grid = list(np.linspace(1000, 1, 11))\n",
    "\n",
    "# -> Estimate MSE for different lambda grid values with cross validation:\n",
    "\n",
    "pipeline = Pipeline(stages=[model])\n",
    "paramGrid = ParamGridBuilder().addGrid(model.regParam, grid).build()\n",
    "modelEvaluator = RegressionEvaluator(labelCol=\"label\", predictionCol=\"prediction\", metricName=\"mse\")\n",
    "\n",
    "crossval = CrossValidator(estimator=pipeline,\n",
    "                      estimatorParamMaps=paramGrid,\n",
    "                      evaluator=RegressionEvaluator(),\n",
    "                      numFolds=3)  \n",
    "\n",
    "cvModel = crossval.fit(data)\n",
    "\n",
    "# -> Print the results:\n",
    "\n",
    "summary_table = pd.DataFrame({'lambda':grid,  'MSE': cvModel.avgMetrics})\n",
    "best_lambda_index = np.argmin(cvModel.avgMetrics)\n",
    "\n",
    "print('\\nLambda and corresponding MSE values:')\n",
    "print(summary_table)\n",
    "\n",
    "# -> Select the best model, get estimates and make predictions:\n",
    "\n",
    "bestModel = cvModel.bestModel\n",
    "\n",
    "print('\\nBest Lambda value: {}'.format(bestModel.stages[-1]._java_obj.parent().getRegParam()))\n",
    "print('\\nCoefficient estimates : {}'.format(bestModel.stages[-1].coefficients))\n",
    "print('\\nIntercept estimate: {}'.format(bestModel.stages[-1].intercept))\n",
    "\n",
    "print('\\nPredictions:')\n",
    "bestModel.transform(data).select('label', 'prediction').show(5)"
   ]
  },
  {
   "cell_type": "markdown",
   "metadata": {},
   "source": [
    "### *6.6.2 The Lasso*"
   ]
  },
  {
   "cell_type": "code",
   "execution_count": 6,
   "metadata": {},
   "outputs": [
    {
     "name": "stdout",
     "output_type": "stream",
     "text": [
      "Hitters data :\n",
      "+-----+----+-----+----+---+-----+-----+------+-----+------+-----+----+------+------+--------+-------+-------+------+------+---------+-----+--------------+-----------------+----------------+----------------------+-------------------------+------------------------+--------------------+\n",
      "|AtBat|Hits|HmRun|Runs|RBI|Walks|Years|CAtBat|CHits|CHmRun|CRuns|CRBI|CWalks|League|Division|PutOuts|Assists|Errors|Salary|NewLeague|label|League_indexed|NewLeague_indexed|Division_indexed|League_indexed_encoded|NewLeague_indexed_encoded|Division_indexed_encoded|            features|\n",
      "+-----+----+-----+----+---+-----+-----+------+-----+------+-----+----+------+------+--------+-------+-------+------+------+---------+-----+--------------+-----------------+----------------+----------------------+-------------------------+------------------------+--------------------+\n",
      "|  315|  81|    7|  24| 38|   39|   14|  3449|  835|    69|  321| 414|   375|     N|       W|    632|     43|    10| 475.0|        N|475.0|           1.0|              1.0|             0.0|             (1,[],[])|                (1,[],[])|           (1,[0],[1.0])|[0.0,0.0,1.0,315....|\n",
      "|  479| 130|   18|  66| 72|   76|    3|  1624|  457|    63|  224| 266|   263|     A|       W|    880|     82|    14| 480.0|        A|480.0|           0.0|              0.0|             0.0|         (1,[0],[1.0])|            (1,[0],[1.0])|           (1,[0],[1.0])|[1.0,1.0,1.0,479....|\n",
      "|  496| 141|   20|  65| 78|   37|   11|  5628| 1575|   225|  828| 838|   354|     N|       E|    200|     11|     3| 500.0|        N|500.0|           1.0|              1.0|             1.0|             (1,[],[])|                (1,[],[])|               (1,[],[])|[0.0,0.0,0.0,496....|\n",
      "|  321|  87|   10|  39| 42|   30|    2|   396|  101|    12|   48|  46|    33|     N|       E|    805|     40|     4|  91.5|        N| 91.5|           1.0|              1.0|             1.0|             (1,[],[])|                (1,[],[])|               (1,[],[])|[0.0,0.0,0.0,321....|\n",
      "|  594| 169|    4|  74| 51|   35|   11|  4408| 1133|    19|  501| 336|   194|     A|       W|    282|    421|    25| 750.0|        A|750.0|           0.0|              0.0|             0.0|         (1,[0],[1.0])|            (1,[0],[1.0])|           (1,[0],[1.0])|[1.0,1.0,1.0,594....|\n",
      "+-----+----+-----+----+---+-----+-----+------+-----+------+-----+----+------+------+--------+-------+-------+------+------+---------+-----+--------------+-----------------+----------------+----------------------+-------------------------+------------------------+--------------------+\n",
      "only showing top 5 rows\n",
      "\n",
      "\n",
      "Lambda and corresponding MSE values:\n",
      "          MSE  lambda\n",
      "0  441.264899  1000.0\n",
      "1  441.264899   889.0\n",
      "2  441.264899   778.0\n",
      "3  441.264899   667.0\n",
      "4  441.264899   556.0\n",
      "5  441.264899   445.0\n",
      "6  441.264899   334.0\n",
      "7  422.953662   223.0\n",
      "8  358.619866   112.0\n",
      "9  318.661946     1.0\n",
      "\n",
      "Best Lambda value: 1.0\n",
      "\n",
      "Coefficient estimates : [-47.402691709350194,14.483166759756102,-118.63893977630016,-2.0764711556482705,7.0802957177603645,1.43511081145059,-0.8370445240308532,0.009024014621208259,5.755219573247729,-11.790920742764346,-0.05067045959283726,0.16615077066028272,0.737861787944213,0.8365021037294722,0.3298206723888454,-0.6798147092541118,0.2794781767526086,0.2943365401608723,-2.9578446979707014]\n",
      "\n",
      "Intercept estimate: 205.21382763728752\n",
      "\n",
      "Predictions:\n",
      "+-----+-----------------+\n",
      "|label|       prediction|\n",
      "+-----+-----------------+\n",
      "|475.0|380.3973109718527|\n",
      "|480.0|717.8362691504223|\n",
      "|500.0| 1152.99890294836|\n",
      "| 91.5|549.1944890198145|\n",
      "|750.0|538.5118722066147|\n",
      "+-----+-----------------+\n",
      "only showing top 5 rows\n",
      "\n"
     ]
    }
   ],
   "source": [
    "# -> Hitters data:\n",
    "\n",
    "print('Hitters data :'); data.show(5)\n",
    "\n",
    "# -> Build the model:\n",
    "\n",
    "model = LinearRegression(featuresCol=\"features\", \n",
    "                         labelCol=\"label\",\n",
    "                         predictionCol=\"prediction\",\n",
    "                         elasticNetParam=1.0) # !\n",
    "\n",
    "# -> Define grid values:\n",
    "\n",
    "grid = list(np.linspace(1000, 1, 10))\n",
    "\n",
    "# -> Estimate MSE for different lambda grid values with cross validation:\n",
    "\n",
    "pipeline = Pipeline(stages=[model])\n",
    "\n",
    "paramGrid = ParamGridBuilder().addGrid(model.regParam, grid).build()\n",
    "modelEvaluator = RegressionEvaluator(labelCol=\"mpg\", predictionCol=\"prediction\", metricName=\"mse\")\n",
    "\n",
    "crossval = CrossValidator(estimator=pipeline,\n",
    "                      estimatorParamMaps=paramGrid,\n",
    "                      evaluator=RegressionEvaluator(),\n",
    "                      numFolds=3)  \n",
    "\n",
    "cvModel = crossval.fit(data)\n",
    "\n",
    "# -> Print the results:\n",
    "\n",
    "summary_table = pd.DataFrame({'lambda':grid,  'MSE': cvModel.avgMetrics})\n",
    "best_lambda_index = np.argmin(cvModel.avgMetrics)\n",
    "\n",
    "print('\\nLambda and corresponding MSE values:')\n",
    "print(summary_table)\n",
    "\n",
    "# -> Select the best model, get estimates and make predictions:\n",
    "\n",
    "bestModel = cvModel.bestModel\n",
    "\n",
    "print('\\nBest Lambda value: {}'.format(bestModel.stages[-1]._java_obj.parent().getRegParam()))\n",
    "print('\\nCoefficient estimates : {}'.format(bestModel.stages[-1].coefficients))\n",
    "print('\\nIntercept estimate: {}'.format(bestModel.stages[-1].intercept))\n",
    "\n",
    "print('\\nPredictions:')\n",
    "bestModel.transform(data).select('label', 'prediction').show(5)"
   ]
  },
  {
   "cell_type": "markdown",
   "metadata": {},
   "source": [
    "## 6.7 Lab 3: PCR and PLS Regression"
   ]
  },
  {
   "cell_type": "raw",
   "metadata": {},
   "source": [
    "Not implemented in MLlib"
   ]
  },
  {
   "cell_type": "code",
   "execution_count": null,
   "metadata": {},
   "outputs": [],
   "source": []
  }
 ],
 "metadata": {
  "kernelspec": {
   "display_name": "conda_python3",
   "language": "python",
   "name": "conda_python3"
  },
  "language_info": {
   "codemirror_mode": {
    "name": "ipython",
    "version": 3
   },
   "file_extension": ".py",
   "mimetype": "text/x-python",
   "name": "python",
   "nbconvert_exporter": "python",
   "pygments_lexer": "ipython3",
   "version": "3.6.5"
  }
 },
 "nbformat": 4,
 "nbformat_minor": 2
}
