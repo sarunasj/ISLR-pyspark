{
 "cells": [
  {
   "cell_type": "markdown",
   "metadata": {},
   "source": [
    "# **9.6 Lab: Support Vector Machines**"
   ]
  },
  {
   "cell_type": "code",
   "execution_count": 1,
   "metadata": {},
   "outputs": [],
   "source": [
    "# -> Define SparkSession\n",
    "\n",
    "from pyspark.sql import SparkSession\n",
    "spark = SparkSession.builder.appName('svm').getOrCreate()\n",
    "\n",
    "import utils"
   ]
  },
  {
   "cell_type": "code",
   "execution_count": 8,
   "metadata": {},
   "outputs": [],
   "source": [
    "# Load modules\n",
    "\n",
    "import pandas as pd\n",
    "import numpy as np\n",
    "\n",
    "import matplotlib.pyplot as plt\n",
    "\n",
    "from pyspark.mllib.evaluation import MulticlassMetrics\n",
    "from pyspark.ml.classification import LinearSVC, LogisticRegression"
   ]
  },
  {
   "cell_type": "raw",
   "metadata": {},
   "source": [
    "\"Non-linear kernels for SVMs in Spark would be great to have. The main barriers are: Kernelized SVM training is hard to distribute. Naive methods require a lot of communication. To get this feature into Spark, we'd need to do proper background research and write up a good design. Other ML algorithms are arguably more in demand and still need improvements (as of the date of this comment). Tree ensembles are first-and-foremost in my mind.\"\n",
    "\n",
    "https://issues.apache.org/jira/browse/SPARK-4638"
   ]
  },
  {
   "cell_type": "markdown",
   "metadata": {},
   "source": [
    "### ***9.6.2 (Linear) Support Vector Machine***"
   ]
  },
  {
   "cell_type": "code",
   "execution_count": 4,
   "metadata": {},
   "outputs": [
    {
     "name": "stdout",
     "output_type": "stream",
     "text": [
      "+----+--------------------+-------------------+--------------------+-----+\n",
      "|   y|                  x1|                 x2|            features|label|\n",
      "+----+--------------------+-------------------+--------------------+-----+\n",
      "|-1.0| -0.5745015575830497| -1.184884880308132|[-0.5745015575830...|  0.0|\n",
      "|-1.0|-0.04004281769145755|0.17126629777248462|[-0.0400428176914...|  0.0|\n",
      "|-1.0|  0.7630247488949232| 0.4734885247596645|[0.76302474889492...|  0.0|\n",
      "|-1.0|   -1.79904352635863|-0.2954903932988402|[-1.7990435263586...|  0.0|\n",
      "|-1.0|   -0.71490535907335| 0.6193213857788568|[-0.7149053590733...|  0.0|\n",
      "+----+--------------------+-------------------+--------------------+-----+\n",
      "only showing top 5 rows\n",
      "\n",
      "Coefficients: [0.7116738642417659,0.9008608647728071]\n",
      "Intercept: -0.7982741281671243\n",
      "\n",
      "Predictions:\n",
      "+-----+----------+\n",
      "|label|prediction|\n",
      "+-----+----------+\n",
      "|  0.0|       0.0|\n",
      "|  0.0|       0.0|\n",
      "|  0.0|       0.0|\n",
      "|  0.0|       0.0|\n",
      "|  0.0|       0.0|\n",
      "+-----+----------+\n",
      "only showing top 5 rows\n",
      "\n",
      "\n",
      "Confusion Matrix:\n",
      "      0     1\n",
      "0  36.0  12.0\n",
      "1   7.0  42.0\n",
      "\n",
      "Accuracy = 0.804\n"
     ]
    }
   ],
   "source": [
    "# -> Generate data:\n",
    "\n",
    "n = 200\n",
    "x = np.random.normal(0, 1, (n,2))\n",
    "y = np.hstack([np.repeat(-1, n/2), np.repeat(1,n/2)])\n",
    "x[y==1,] = x[y==1,] + 1\n",
    "pd_data = pd.DataFrame(np.column_stack((y,x)),columns=['y', 'x1','x2'])\n",
    "dat = spark.createDataFrame(pd_data)\n",
    "\n",
    "\n",
    "# -> Prepare data:\n",
    "\n",
    "data = utils.prepare_data(df = dat,\n",
    "                    labelCol = 'y',\n",
    "                    label_is_categorical = True,\n",
    "                    categoricalCols = [],\n",
    "                    continuousCols = ['x1', 'x2']\n",
    "                   )\n",
    "data.show(5)\n",
    "\n",
    "\n",
    "# -> Create train and test samples:\n",
    "\n",
    "train, test = data.randomSplit([0.5, 0.5], seed=11)\n",
    "\n",
    "# -> Describe the model:\n",
    "\n",
    "model = LinearSVC(featuresCol=\"features\", \n",
    "                 labelCol='label')\n",
    "\n",
    "# -> Fit the model\n",
    "model_fit = model.fit(train)\n",
    "\n",
    "# -> Print the coefficients and intercept for linearsSVC:\n",
    "print(\"Coefficients: \" + str(model_fit.coefficients))\n",
    "print(\"Intercept: \" + str(model_fit.intercept))\n",
    "\n",
    "# -> Make predictions on test sample:\n",
    "\n",
    "predictions = model_fit.transform(test)\n",
    "print('\\nPredictions:'); predictions.select('label', 'prediction').show(5)\n",
    "\n",
    "\n",
    "# Evaluate the model on the test sample\n",
    "\n",
    "metrics = MulticlassMetrics(predictions.select('label','prediction').rdd)\n",
    "\n",
    "print('\\nConfusion Matrix:')\n",
    "confusion_matrix = pd.DataFrame(metrics.confusionMatrix().toArray())\n",
    "\n",
    "print(confusion_matrix)\n",
    "print('\\nAccuracy = {:.3f}'.format(metrics.accuracy))"
   ]
  },
  {
   "cell_type": "markdown",
   "metadata": {},
   "source": [
    "### *9.6.3 ROC Curves*"
   ]
  },
  {
   "cell_type": "code",
   "execution_count": 10,
   "metadata": {},
   "outputs": [
    {
     "name": "stdout",
     "output_type": "stream",
     "text": [
      "+----+--------------------+--------------------+--------------------+-----+\n",
      "|   y|                  x1|                  x2|            features|label|\n",
      "+----+--------------------+--------------------+--------------------+-----+\n",
      "|-1.0|-0.17881383186017194|  1.3864453696159593|[-0.1788138318601...|  0.0|\n",
      "|-1.0|-0.04255725525498896| -1.3103966172397148|[-0.0425572552549...|  0.0|\n",
      "|-1.0| -0.7342470418953463|  -0.405814943397813|[-0.7342470418953...|  0.0|\n",
      "|-1.0| -0.5711636099128917|-0.32261219948933195|[-0.5711636099128...|  0.0|\n",
      "|-1.0| -0.7795702001651745| -0.3748997594793807|[-0.7795702001651...|  0.0|\n",
      "+----+--------------------+--------------------+--------------------+-----+\n",
      "only showing top 5 rows\n",
      "\n"
     ]
    },
    {
     "data": {
      "image/png": "[encoded data removed]",
      "text/plain": [
       "<Figure size 216x216 with 1 Axes>"
      ]
     },
     "metadata": {},
     "output_type": "display_data"
    }
   ],
   "source": [
    "# -> Generate data:\n",
    "\n",
    "n = 200\n",
    "x = np.random.normal(0, 1, (n,2))\n",
    "y = np.hstack([np.repeat(-1, n/2), np.repeat(1,n/2)])\n",
    "x[y==1,] = x[y==1,] + 1\n",
    "pd_data = pd.DataFrame(np.column_stack((y,x)),columns=['y', 'x1','x2'])\n",
    "dat = spark.createDataFrame(pd_data)\n",
    "\n",
    "# -> Prepare data:\n",
    "\n",
    "data = utils.prepare_data(df = dat,\n",
    "                    labelCol = 'y',\n",
    "                    label_is_categorical = True,\n",
    "                    categoricalCols = [],\n",
    "                    continuousCols = ['x1', 'x2']\n",
    "                   )\n",
    "data.show(5)\n",
    "\n",
    "# -> Create train and test samples:\n",
    "\n",
    "train, test = data.randomSplit([0.5, 0.5], seed=11)\n",
    "\n",
    "\n",
    "# -> Describe the  model\n",
    "\n",
    "model = LogisticRegression(featuresCol=\"features\", \n",
    "                           labelCol='label')\n",
    "\n",
    "# Fit the model:\n",
    "\n",
    "model_fit = model.fit(train)\n",
    "                      \n",
    "\n",
    "# Predictions:\n",
    "\n",
    "predictions = model_fit.transform(test)\n",
    "\n",
    "# ROC curve:\n",
    "\n",
    "plt.figure(figsize=(3,3))\n",
    "plt.plot([0, 1], [0, 1], 'r--')\n",
    "plt.plot(model_fit.summary.roc.select('FPR').collect(),\n",
    "         model_fit.summary.roc.select('TPR').collect())\n",
    "plt.xlabel('FPR')\n",
    "plt.ylabel('TPR')\n",
    "plt.show()"
   ]
  }
 ],
 "metadata": {
  "kernelspec": {
   "display_name": "conda_python3",
   "language": "python",
   "name": "conda_python3"
  },
  "language_info": {
   "codemirror_mode": {
    "name": "ipython",
    "version": 3
   },
   "file_extension": ".py",
   "mimetype": "text/x-python",
   "name": "python",
   "nbconvert_exporter": "python",
   "pygments_lexer": "ipython3",
   "version": "3.6.5"
  }
 },
 "nbformat": 4,
 "nbformat_minor": 2
}
